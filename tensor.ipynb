{
 "cells": [
  {
   "cell_type": "code",
   "execution_count": 13,
   "id": "1b07398d-86b1-4f0b-8267-55414aff051b",
   "metadata": {},
   "outputs": [],
   "source": [
    "import pandas as pd\n",
    "import numpy as np\n",
    "from PIL import Image\n",
    "from tensorflow import keras\n",
    "from tensorflow.keras.layers import Dense"
   ]
  },
  {
   "cell_type": "code",
   "execution_count": 2,
   "id": "201a81b3-7992-4475-b028-ee89dbfd27e7",
   "metadata": {},
   "outputs": [
    {
     "data": {
      "text/html": [
       "<div>\n",
       "<style scoped>\n",
       "    .dataframe tbody tr th:only-of-type {\n",
       "        vertical-align: middle;\n",
       "    }\n",
       "\n",
       "    .dataframe tbody tr th {\n",
       "        vertical-align: top;\n",
       "    }\n",
       "\n",
       "    .dataframe thead th {\n",
       "        text-align: right;\n",
       "    }\n",
       "</style>\n",
       "<table border=\"1\" class=\"dataframe\">\n",
       "  <thead>\n",
       "    <tr style=\"text-align: right;\">\n",
       "      <th></th>\n",
       "      <th>File name</th>\n",
       "      <th>GC</th>\n",
       "    </tr>\n",
       "  </thead>\n",
       "  <tbody>\n",
       "    <tr>\n",
       "      <th>0</th>\n",
       "      <td>08DE663C</td>\n",
       "      <td>0</td>\n",
       "    </tr>\n",
       "    <tr>\n",
       "      <th>1</th>\n",
       "      <td>08EE752D</td>\n",
       "      <td>1</td>\n",
       "    </tr>\n",
       "    <tr>\n",
       "      <th>2</th>\n",
       "      <td>08DE663D</td>\n",
       "      <td>0</td>\n",
       "    </tr>\n",
       "    <tr>\n",
       "      <th>3</th>\n",
       "      <td>08EE751D</td>\n",
       "      <td>1</td>\n",
       "    </tr>\n",
       "    <tr>\n",
       "      <th>4</th>\n",
       "      <td>08DE664B</td>\n",
       "      <td>0</td>\n",
       "    </tr>\n",
       "  </tbody>\n",
       "</table>\n",
       "</div>"
      ],
      "text/plain": [
       "  File name  GC\n",
       "0  08DE663C   0\n",
       "1  08EE752D   1\n",
       "2  08DE663D   0\n",
       "3  08EE751D   1\n",
       "4  08DE664B   0"
      ]
     },
     "execution_count": 2,
     "metadata": {},
     "output_type": "execute_result"
    }
   ],
   "source": [
    "train_data = pd.read_csv(\"nagaoka_gc/train/train_data.csv\")\n",
    "train_data.head()"
   ]
  },
  {
   "cell_type": "code",
   "execution_count": 3,
   "id": "79c599e9-e5ce-4483-9830-19309c34f917",
   "metadata": {},
   "outputs": [
    {
     "data": {
      "text/html": [
       "<div>\n",
       "<style scoped>\n",
       "    .dataframe tbody tr th:only-of-type {\n",
       "        vertical-align: middle;\n",
       "    }\n",
       "\n",
       "    .dataframe tbody tr th {\n",
       "        vertical-align: top;\n",
       "    }\n",
       "\n",
       "    .dataframe thead th {\n",
       "        text-align: right;\n",
       "    }\n",
       "</style>\n",
       "<table border=\"1\" class=\"dataframe\">\n",
       "  <thead>\n",
       "    <tr style=\"text-align: right;\">\n",
       "      <th></th>\n",
       "      <th>File name</th>\n",
       "      <th>GC</th>\n",
       "    </tr>\n",
       "  </thead>\n",
       "  <tbody>\n",
       "    <tr>\n",
       "      <th>0</th>\n",
       "      <td>08DE762D</td>\n",
       "      <td>0</td>\n",
       "    </tr>\n",
       "    <tr>\n",
       "      <th>1</th>\n",
       "      <td>08EE780C</td>\n",
       "      <td>1</td>\n",
       "    </tr>\n",
       "    <tr>\n",
       "      <th>2</th>\n",
       "      <td>08EE050C</td>\n",
       "      <td>0</td>\n",
       "    </tr>\n",
       "    <tr>\n",
       "      <th>3</th>\n",
       "      <td>08EE972C</td>\n",
       "      <td>1</td>\n",
       "    </tr>\n",
       "    <tr>\n",
       "      <th>4</th>\n",
       "      <td>08DE863C</td>\n",
       "      <td>0</td>\n",
       "    </tr>\n",
       "  </tbody>\n",
       "</table>\n",
       "</div>"
      ],
      "text/plain": [
       "  File name  GC\n",
       "0  08DE762D   0\n",
       "1  08EE780C   1\n",
       "2  08EE050C   0\n",
       "3  08EE972C   1\n",
       "4  08DE863C   0"
      ]
     },
     "execution_count": 3,
     "metadata": {},
     "output_type": "execute_result"
    }
   ],
   "source": [
    "test_data = pd.read_csv(\"nagaoka_gc/test/test_data.csv\")\n",
    "test_data.head()"
   ]
  },
  {
   "cell_type": "code",
   "execution_count": 4,
   "id": "e18cc4c2-9618-406f-a723-bfa5dfad4a13",
   "metadata": {},
   "outputs": [],
   "source": [
    "# 画像をflatternする\n",
    "def make_flat_image(path):\n",
    "    img = Image.open(path).convert(\"L\")\n",
    "    ary = np.array(img)\n",
    "    return ary.flatten()"
   ]
  },
  {
   "cell_type": "code",
   "execution_count": 5,
   "id": "bdfb3d18-a7a2-40d8-9257-180d3ec1ff96",
   "metadata": {},
   "outputs": [
    {
     "data": {
      "text/plain": [
       "20"
      ]
     },
     "execution_count": 5,
     "metadata": {},
     "output_type": "execute_result"
    }
   ],
   "source": [
    "train_len = len(train_data)\n",
    "train_len"
   ]
  },
  {
   "cell_type": "code",
   "execution_count": 6,
   "id": "fde047a8-bcda-4181-bfe8-ddc1dd1829d4",
   "metadata": {},
   "outputs": [],
   "source": [
    "X_train = np.empty((train_len, 600 * 800), dtype=np.uint8)\n",
    "y_train = np.empty(train_len, dtype=np.uint8)"
   ]
  },
  {
   "cell_type": "code",
   "execution_count": 7,
   "id": "9259213e-090c-4328-891e-8c3d4f558dbf",
   "metadata": {},
   "outputs": [],
   "source": [
    "for i in range(train_len):\n",
    "    data = train_data.loc[i]\n",
    "    name = data['File name']\n",
    "    path = 'nagaoka_gc/train/%s.jpg' % name\n",
    "    X_train[i] = make_flat_image(path)\n",
    "    y_train[i] = data['GC']"
   ]
  },
  {
   "cell_type": "code",
   "execution_count": 8,
   "id": "d0e13f73-72ad-4d84-8b42-e01d483480a8",
   "metadata": {},
   "outputs": [
    {
     "data": {
      "text/plain": [
       "6"
      ]
     },
     "execution_count": 8,
     "metadata": {},
     "output_type": "execute_result"
    }
   ],
   "source": [
    "test_len = len(test_data)\n",
    "test_len"
   ]
  },
  {
   "cell_type": "code",
   "execution_count": 9,
   "id": "1004b393-ce35-4694-ae3b-0c0a7fce9b3c",
   "metadata": {},
   "outputs": [],
   "source": [
    "X_test = np.empty((test_len, 600 * 800), dtype=np.uint8)\n",
    "y_test = np.empty(test_len, dtype=np.uint8)"
   ]
  },
  {
   "cell_type": "code",
   "execution_count": 10,
   "id": "5bc096e8-ead1-4efc-bda7-33574d97743f",
   "metadata": {},
   "outputs": [],
   "source": [
    "for i in range(test_len):\n",
    "    data = test_data.loc[i]\n",
    "    name = data['File name']\n",
    "    path = 'nagaoka_gc/test/%s.jpg' % name\n",
    "    X_test[i] = make_flat_image(path)\n",
    "    y_test[i] = data['GC']"
   ]
  },
  {
   "cell_type": "code",
   "execution_count": 11,
   "id": "c033681f-fa9c-44e8-a708-a19cae06acc6",
   "metadata": {},
   "outputs": [
    {
     "data": {
      "text/plain": [
       "(20, 480000)"
      ]
     },
     "execution_count": 11,
     "metadata": {},
     "output_type": "execute_result"
    }
   ],
   "source": [
    "X_train.shape"
   ]
  },
  {
   "cell_type": "code",
   "execution_count": 16,
   "id": "48e0671d-2c9b-4628-8361-a1bb9501dc6e",
   "metadata": {},
   "outputs": [],
   "source": [
    "model = keras.Sequential()\n",
    "\n",
    "# 入力層\n",
    "model.add(Dense(16, activation='relu', input_shape=(480000,)))\n",
    "# 隠れ層\n",
    "model.add(Dense(16, activation='relu'))\n",
    "# 出力層\n",
    "model.add(Dense(1, activation='softmax'))\n",
    "\n",
    "# モデルの構築\n",
    "model.compile(optimizer = \"rmsprop\", loss='categorical_crossentropy', metrics=['accuracy'])"
   ]
  },
  {
   "cell_type": "code",
   "execution_count": 17,
   "id": "6fa25c10-e36b-44db-9cc0-c97aa10be660",
   "metadata": {},
   "outputs": [
    {
     "name": "stdout",
     "output_type": "stream",
     "text": [
      "1/1 [==============================] - 1s 705ms/step - loss: 0.0000e+00 - accuracy: 0.5000\n"
     ]
    },
    {
     "data": {
      "text/plain": [
       "<tensorflow.python.keras.callbacks.History at 0x2a16f7024c0>"
      ]
     },
     "execution_count": 17,
     "metadata": {},
     "output_type": "execute_result"
    }
   ],
   "source": [
    "model.fit(X_train, y_train)"
   ]
  },
  {
   "cell_type": "code",
   "execution_count": 19,
   "id": "d30dd61f-b842-4e5b-bf55-dbc3f5f1ebd4",
   "metadata": {},
   "outputs": [
    {
     "data": {
      "text/plain": [
       "array([[1.],\n",
       "       [1.],\n",
       "       [1.],\n",
       "       [1.],\n",
       "       [1.],\n",
       "       [1.]], dtype=float32)"
      ]
     },
     "execution_count": 19,
     "metadata": {},
     "output_type": "execute_result"
    }
   ],
   "source": [
    "model.predict(X_test)"
   ]
  },
  {
   "cell_type": "code",
   "execution_count": null,
   "id": "b99f1866-3110-4500-a9e2-e8ddbfeaf114",
   "metadata": {},
   "outputs": [],
   "source": []
  }
 ],
 "metadata": {
  "kernelspec": {
   "display_name": "Python 3",
   "language": "python",
   "name": "python3"
  },
  "language_info": {
   "codemirror_mode": {
    "name": "ipython",
    "version": 3
   },
   "file_extension": ".py",
   "mimetype": "text/x-python",
   "name": "python",
   "nbconvert_exporter": "python",
   "pygments_lexer": "ipython3",
   "version": "3.9.1"
  }
 },
 "nbformat": 4,
 "nbformat_minor": 5
}
